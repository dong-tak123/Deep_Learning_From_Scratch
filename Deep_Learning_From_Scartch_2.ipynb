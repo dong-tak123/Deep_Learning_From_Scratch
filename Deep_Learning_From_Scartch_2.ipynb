{
  "nbformat": 4,
  "nbformat_minor": 0,
  "metadata": {
    "colab": {
      "name": "Deep_Learning_From_Scartch_2",
      "provenance": []
    },
    "kernelspec": {
      "name": "python3",
      "display_name": "Python 3"
    },
    "language_info": {
      "name": "python"
    }
  },
  "cells": [
    {
      "cell_type": "markdown",
      "source": [
        "#####필요 함수들"
      ],
      "metadata": {
        "id": "491ORb-WAgmk"
      }
    },
    {
      "cell_type": "code",
      "source": [
        "import numpy as np\n",
        "\n",
        "def cross_entropy_error(y, t):\n",
        "    if y.ndim == 1:\n",
        "        t = t.reshape(1, t.size)\n",
        "        y = y.reshape(1, y.size)\n",
        "        \n",
        "    # 훈련 데이터가 원-핫 벡터라면 정답 레이블의 인덱스로 반환\n",
        "    if t.size == y.size:\n",
        "        t = t.argmax(axis=1)\n",
        "             \n",
        "    batch_size = y.shape[0]\n",
        "    return -np.sum(np.log(y[np.arange(batch_size), t] + 1e-7)) / batch_size\n",
        "\n",
        "def softmax(a):\n",
        "    exp_a = np.exp(a)       #브로드캐스트\n",
        "    sum_exp_a = np.sum(exp_a)\n",
        "    y = exp_a / sum_exp_a\n",
        "    return y"
      ],
      "metadata": {
        "id": "7uBe_4BzwHx8"
      },
      "execution_count": 1,
      "outputs": []
    },
    {
      "cell_type": "markdown",
      "source": [
        "#5. 오차역전파법\n",
        "\n",
        "- computational graph와 chain rule을 이용하여 numerical diff보다 빠르게 수행가능\n",
        "- $G_{downstreaming} = G_{local} * G_{upstreaming}$\n",
        "- 오차역전파로 계산하고, 수치미분으로 검산"
      ],
      "metadata": {
        "id": "QKoXNLXWrJUp"
      }
    },
    {
      "cell_type": "markdown",
      "source": [
        "##단순한 계층 구현하기"
      ],
      "metadata": {
        "id": "GVfefxUCrqMA"
      }
    },
    {
      "cell_type": "markdown",
      "source": [
        "곱셈 계층 : gradient를 swap해서 곱한다"
      ],
      "metadata": {
        "id": "pIwgDfRPrsw7"
      }
    },
    {
      "cell_type": "code",
      "execution_count": 2,
      "metadata": {
        "id": "gX0yztX1q3wM"
      },
      "outputs": [],
      "source": [
        "class MulLayer:\n",
        "    def __init__(self):\n",
        "        self.x = None\n",
        "        self.y = None\n",
        "    \n",
        "    # 순전파\n",
        "    def forward(self, x, y):\n",
        "        self.x = x\n",
        "        self.y = y\n",
        "        out = x * y\n",
        "        return out\n",
        "    \n",
        "    # 역전파\n",
        "    def backward(self, dout):   #upstream_grad를 param으로 준다\n",
        "        dx = dout * self.y\n",
        "        dy = dout * self.x\n",
        "        return dx, dy"
      ]
    },
    {
      "cell_type": "markdown",
      "source": [
        "덧셈 계층 : gradient를 그대로 흘린다"
      ],
      "metadata": {
        "id": "poeiSwlVsLQg"
      }
    },
    {
      "cell_type": "code",
      "source": [
        "class AddLayer:\n",
        "    def __init__(self):\n",
        "        self.x = None\n",
        "        self.y = None\n",
        "    \n",
        "    # 순전파\n",
        "    def forward(self, x, y):\n",
        "        self.x = x\n",
        "        self.y = y\n",
        "        out = x + y\n",
        "        return out\n",
        "    \n",
        "    # 역전파\n",
        "    def backward(self, dout):\n",
        "        dx = dout * 1\n",
        "        dy = dout * 1\n",
        "        return dx, dy"
      ],
      "metadata": {
        "id": "Mnq2caQ0sJ0D"
      },
      "execution_count": 3,
      "outputs": []
    },
    {
      "cell_type": "markdown",
      "source": [
        "##Activation 구현하기"
      ],
      "metadata": {
        "id": "dt682-4Fs3mG"
      }
    },
    {
      "cell_type": "markdown",
      "source": [
        "ReLU"
      ],
      "metadata": {
        "id": "yTfuTviZs9NY"
      }
    },
    {
      "cell_type": "code",
      "source": [
        "class Relu:\n",
        "    def __init__(self):\n",
        "        self.mask = None\n",
        "    \n",
        "    def forward(self, x):\n",
        "        self.mask = (x <= 0)        # 0 이하인 곳을 확인\n",
        "        out = x.copy()\n",
        "        out[self.mask] = 0      # 0으로 바꿈\n",
        "        return out\n",
        "    \n",
        "    def backward(self, dout):\n",
        "        dout[self.mask] = 0     # 역전파할 전달안 된 곳은 0\n",
        "        dx = dout\n",
        "        return dx"
      ],
      "metadata": {
        "id": "SlGLafgRs07V"
      },
      "execution_count": 4,
      "outputs": []
    },
    {
      "cell_type": "markdown",
      "source": [
        "Sigmoid\n",
        "\n",
        "- $y' = y(1-y)$"
      ],
      "metadata": {
        "id": "mesy3-v5tg5Q"
      }
    },
    {
      "cell_type": "code",
      "source": [
        "class Sigmoid:\n",
        "    def __init__(self):\n",
        "        self.out = None\n",
        "    \n",
        "    def forward(self, x):\n",
        "        out = 1 / (1 + np.exp(-x))\n",
        "        self.out = out\n",
        "        return out\n",
        "    \n",
        "    def backward(self, dout):\n",
        "        dx = dout * (1.0 - self.out) * self.out     # y' = y * (1-y)\n",
        "        return dx"
      ],
      "metadata": {
        "id": "_ZAY-p6Rtf5o"
      },
      "execution_count": 5,
      "outputs": []
    },
    {
      "cell_type": "markdown",
      "source": [
        "##Affine / Softmax 계층 구현"
      ],
      "metadata": {
        "id": "ltIG1JsRuIVR"
      }
    },
    {
      "cell_type": "markdown",
      "source": [
        "Affine 계층\n",
        "\n",
        "- 행렬 곱으로 생각해야 함\n",
        "- **weight와 grad의 shape은 항상 같다**"
      ],
      "metadata": {
        "id": "5eHxhlQwuKus"
      }
    },
    {
      "cell_type": "code",
      "source": [
        "class Affine:\n",
        "    def __init__(self, W, b):\n",
        "        self.W = W\n",
        "        self.b = b\n",
        "        self.x = None\n",
        "        self.original_x_shape = None        # batch_size도 고려하기 위함\n",
        "        # 가중치와 편향 매개변수의 미분\n",
        "        self.dW = None\n",
        "        self.db = None\n",
        "\n",
        "    def forward(self, x):\n",
        "        # 텐서 대응\n",
        "        self.original_x_shape = x.shape\n",
        "        x = x.reshape(x.shape[0], -1)\n",
        "        self.x = x\n",
        "\n",
        "        out = np.dot(self.x, self.W) + self.b\n",
        "        return out\n",
        "\n",
        "    def backward(self, dout):\n",
        "        dx = np.dot(dout, self.W.T)\n",
        "        self.dW = np.dot(self.x.T, dout)\n",
        "        \n",
        "        # 편향은 각 데이터의 역전파 값을 다 모아야함\n",
        "        self.db = np.sum(dout, axis=0)      \n",
        "        \n",
        "        # 입력 데이터 모양 변경(텐서 대응)\n",
        "        dx = dx.reshape(*self.original_x_shape)\n",
        "        return dx"
      ],
      "metadata": {
        "id": "Umf6J7ymuGkX"
      },
      "execution_count": 6,
      "outputs": []
    },
    {
      "cell_type": "markdown",
      "source": [
        "Softmax-with-Loss 계층"
      ],
      "metadata": {
        "id": "-BgDgHOUvyE8"
      }
    },
    {
      "cell_type": "code",
      "source": [
        "class SoftmaxWithLoss:\n",
        "    def __init__(self):\n",
        "        self.loss = None # 손실함수\n",
        "        self.y = None    # softmax의 출력\n",
        "        self.t = None    # 정답 레이블(원-핫 인코딩 형태)\n",
        "        \n",
        "    def forward(self, x, t):\n",
        "        self.t = t\n",
        "        self.y = softmax(x)     # softmax 활용\n",
        "        self.loss = cross_entropy_error(self.y, self.t)     # cross_entropy_error\n",
        "        \n",
        "        return self.loss\n",
        "\n",
        "    def backward(self, dout=1):\n",
        "        batch_size = self.t.shape[0]\n",
        "        if self.t.size == self.y.size: # 정답 레이블이 원-핫 인코딩 형태일 때\n",
        "            dx = (self.y - self.t) / batch_size\n",
        "        else:\n",
        "            dx = self.y.copy()\n",
        "            dx[np.arange(batch_size), self.t] -= 1\n",
        "            dx = dx / batch_size\n",
        "        \n",
        "        return dx"
      ],
      "metadata": {
        "id": "29u9UIPSveDP"
      },
      "execution_count": 7,
      "outputs": []
    },
    {
      "cell_type": "markdown",
      "source": [
        "##오차역전파법 구현하기"
      ],
      "metadata": {
        "id": "3vpq_KZ8wdg4"
      }
    },
    {
      "cell_type": "markdown",
      "source": [
        "**network 학습의 큰 그림**\n",
        "\n",
        "1. 미니배치\n",
        "2. 기울기 산출\n",
        "    - Backpropaganda 사용!\n",
        "3. parameter update\n",
        "4. 반복"
      ],
      "metadata": {
        "id": "KWtdFlqPwiM2"
      }
    },
    {
      "cell_type": "code",
      "source": [
        "# layer 순서 보존을 위해 사용\n",
        "from collections import OrderedDict\n",
        "\n",
        "class TwoLayerNet:\n",
        "    def __init__(self, input_size, hidden_size, output_size, weight_init_std = 0.01):\n",
        "        # 가중치 초기화\n",
        "        self.params = {}\n",
        "        self.params['W1'] = weight_init_std * np.random.randn(input_size, hidden_size)\n",
        "        self.params['b1'] = np.zeros(hidden_size)\n",
        "        self.params['W2'] = weight_init_std * np.random.randn(hidden_size, output_size) \n",
        "        self.params['b2'] = np.zeros(output_size)\n",
        "\n",
        "        # 계층 생성\n",
        "        self.layers = OrderedDict()\n",
        "        self.layers['Affine1'] = Affine(self.params['W1'], self.params['b1'])\n",
        "        self.layers['Relu1'] = Relu()\n",
        "        self.layers['Affine2'] = Affine(self.params['W2'], self.params['b2'])\n",
        "\n",
        "        self.lastLayer = SoftmaxWithLoss()\n",
        "        \n",
        "    def predict(self, x):\n",
        "        for layer in self.layers.values():\n",
        "            x = layer.forward(x)\n",
        "        \n",
        "        return x\n",
        "        \n",
        "    # x : 입력 데이터, t : 정답 레이블\n",
        "    def loss(self, x, t):\n",
        "        y = self.predict(x)\n",
        "        return self.lastLayer.forward(y, t)\n",
        "    \n",
        "    def accuracy(self, x, t):\n",
        "        y = self.predict(x)\n",
        "        y = np.argmax(y, axis=1)\n",
        "        if t.ndim != 1 : t = np.argmax(t, axis=1)\n",
        "        \n",
        "        accuracy = np.sum(y == t) / float(x.shape[0])\n",
        "        return accuracy\n",
        "    \n",
        "    # 오차역전파법 구현\n",
        "    def gradient(self, x, t):\n",
        "        # forward\n",
        "        self.loss(x, t)\n",
        "\n",
        "        # backward\n",
        "        dout = 1\n",
        "        dout = self.lastLayer.backward(dout)\n",
        "        \n",
        "        layers = list(self.layers.values())\n",
        "        layers.reverse()        # 순서 바꿔서 순차적 역전파\n",
        "        for layer in layers:\n",
        "            dout = layer.backward(dout)\n",
        "\n",
        "        # 결과 저장\n",
        "        grads = {}\n",
        "        grads['W1'], grads['b1'] = self.layers['Affine1'].dW, self.layers['Affine1'].db\n",
        "        grads['W2'], grads['b2'] = self.layers['Affine2'].dW, self.layers['Affine2'].db\n",
        "\n",
        "        return grads"
      ],
      "metadata": {
        "id": "vAlxMCqjwZV0"
      },
      "execution_count": 8,
      "outputs": []
    },
    {
      "cell_type": "markdown",
      "source": [
        "#6. 학습 관련 기술들"
      ],
      "metadata": {
        "id": "I1EFd8hxybFt"
      }
    },
    {
      "cell_type": "markdown",
      "source": [
        "##6.1 매개변수 갱신\n",
        "\n",
        "손실함수 값을 최소화하는 곳을 찾아가는 **최적화** 과정\n",
        "\n",
        "- 여러 방법이 있는데 문제에 맞는 optimizer를 선택해야 함\n",
        "- Adam이 국룰"
      ],
      "metadata": {
        "id": "_tQKHGf5yfaK"
      }
    },
    {
      "cell_type": "markdown",
      "source": [
        "####SGD\n",
        "\n",
        "- $W = W - \\eta\\dfrac{\\partial{L}}{\\partial{W}}$\n",
        "- weight space가 scale이 다를 때 비효율적으로 업데이트되는 단점이 있다"
      ],
      "metadata": {
        "id": "puaFdmhCyhvR"
      }
    },
    {
      "cell_type": "code",
      "source": [
        "class SGD:\n",
        "    def __init__(self, lr=0.01):\n",
        "        self.lr = lr\n",
        "    \n",
        "    # grad와 현재 param값을 넘겨 줌\n",
        "    def update(self, params, grads):\n",
        "        for key in params.keys():\n",
        "            params[key] -= self.lr * grads[key]"
      ],
      "metadata": {
        "id": "j2LadYrmx6y-"
      },
      "execution_count": 9,
      "outputs": []
    },
    {
      "cell_type": "markdown",
      "source": [
        "####모멘텀\n",
        "\n",
        "- $v = \\alpha v - \\eta\\dfrac{\\partial{L}}{\\partial{W}}$ : 모멘텀 계산\n",
        "- $W = W + v$\n",
        "- $\\alpha v$항은 마찰에 해당함\n",
        "\n",
        "-> 모멘텀(속도)을 이용해서 효율적인 업데이트를 한다"
      ],
      "metadata": {
        "id": "lQwtvLbXzXs3"
      }
    },
    {
      "cell_type": "code",
      "source": [
        "class Momentum:\n",
        "    def __init__(self, lr=0.01, momentum=0.9):\n",
        "        self.lr = lr\n",
        "        self.momentum = momentum\n",
        "        self.v = None       # 모멘텀을 담는 변수\n",
        "        \n",
        "    def update(self, params, grads):\n",
        "        # 모멘텀 담기\n",
        "        if self.v is None:\n",
        "            self.v = {}\n",
        "            for key, val in params.items():                                \n",
        "                self.v[key] = np.zeros_like(val)\n",
        "                \n",
        "        for key in params.keys():\n",
        "            self.v[key] = self.momentum*self.v[key] - self.lr*grads[key]    # 모멘텀 update\n",
        "            params[key] += self.v[key]      # param update"
      ],
      "metadata": {
        "id": "x3j1Cw-4zMOf"
      },
      "execution_count": 10,
      "outputs": []
    },
    {
      "cell_type": "markdown",
      "source": [
        "####AdaGrad\n",
        "\n",
        "- grad의 크기에 맞춰서 학습률을 조정한다\n",
        "- $h = h - \\dfrac{\\partial{L}}{\\partial{W}}.\\dfrac{\\partial{L}}{\\partial{W}}$   : elementwise muliply\n",
        "- $W = W - \\eta\\dfrac{1}{\\sqrt{h}}\\dfrac{\\partial{L}}{\\partial{W}}$\n",
        "\n",
        "-> grad가 크면 학습률이 낮아지고, 작으면 학습률이 커짐"
      ],
      "metadata": {
        "id": "7XmJz2PV045x"
      }
    },
    {
      "cell_type": "code",
      "source": [
        "class AdaGrad:\n",
        "    def __init__(self, lr=0.01):\n",
        "        self.lr = lr\n",
        "        self.h = None       # lr 스케일 조정\n",
        "        \n",
        "    def update(self, params, grads):\n",
        "        if self.h is None:\n",
        "            self.h = {}\n",
        "            for key, val in params.items():\n",
        "                self.h[key] = np.zeros_like(val)\n",
        "            \n",
        "        for key in params.keys():\n",
        "            self.h[key] += grads[key] * grads[key]      # grad 스케일 확인\n",
        "            params[key] -= self.lr * grads[key] / (np.sqrt(self.h[key]) + 1e-7)     #lr 조정"
      ],
      "metadata": {
        "id": "WztipQNU0xNk"
      },
      "execution_count": 11,
      "outputs": []
    },
    {
      "cell_type": "markdown",
      "source": [
        "####Adam\n",
        "\n",
        "- Momentum + AdaGrad"
      ],
      "metadata": {
        "id": "enNM0jbT2Bbb"
      }
    },
    {
      "cell_type": "code",
      "source": [
        "class Adam:\n",
        "    def __init__(self, lr=0.001, beta1=0.9, beta2=0.999):\n",
        "        self.lr = lr\n",
        "        self.beta1 = beta1\n",
        "        self.beta2 = beta2\n",
        "        self.iter = 0\n",
        "        self.m = None\n",
        "        self.v = None\n",
        "        \n",
        "    def update(self, params, grads):\n",
        "        if self.m is None:\n",
        "            self.m, self.v = {}, {}\n",
        "            for key, val in params.items():\n",
        "                self.m[key] = np.zeros_like(val)\n",
        "                self.v[key] = np.zeros_like(val)\n",
        "        \n",
        "        self.iter += 1\n",
        "        lr_t  = self.lr * np.sqrt(1.0 - self.beta2**self.iter) / (1.0 - self.beta1**self.iter)         \n",
        "        \n",
        "        for key in params.keys():\n",
        "            self.m[key] += (1 - self.beta1) * (grads[key] - self.m[key])\n",
        "            self.v[key] += (1 - self.beta2) * (grads[key]**2 - self.v[key])\n",
        "            \n",
        "            params[key] -= lr_t * self.m[key] / (np.sqrt(self.v[key]) + 1e-7)"
      ],
      "metadata": {
        "id": "e1VlLvvt1-0f"
      },
      "execution_count": 12,
      "outputs": []
    },
    {
      "cell_type": "markdown",
      "source": [
        "##6.2 가중치의 초깃값"
      ],
      "metadata": {
        "id": "Ca_lzM2c2fBa"
      }
    },
    {
      "cell_type": "markdown",
      "source": [
        "![가중치초기화.jpg](data:image/jpeg;base64,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)"
      ],
      "metadata": {
        "id": "noVOaH2e6A5b"
      }
    },
    {
      "cell_type": "markdown",
      "source": [
        "##6.3 배치 정규화"
      ],
      "metadata": {
        "id": "SmXKP_154vBU"
      }
    },
    {
      "cell_type": "markdown",
      "source": [
        "- 입력의 분포를 일정하게 해줌\n",
        "- 미분가능해서 역전파 가능\n",
        "- nonlinearity를 얼마나 줄지 학습할 수 있음"
      ],
      "metadata": {
        "id": "eAHGMhXR6GnQ"
      }
    },
    {
      "cell_type": "markdown",
      "source": [
        "##6.4 바른 학습을 위해"
      ],
      "metadata": {
        "id": "_9y8vpm_4wct"
      }
    },
    {
      "cell_type": "markdown",
      "source": [
        "- 오버피팅이 제일 안좋은 것\n",
        "- Loss에 Weight의 L2 노름을 더해서 가중치 감소를 유도\n",
        "- 드롭아웃으로 특정 노드에 의존하는 것을 방지"
      ],
      "metadata": {
        "id": "kqpjCbua6bRB"
      }
    },
    {
      "cell_type": "markdown",
      "source": [
        "####Loss에 Weight의 L2노름을 더함"
      ],
      "metadata": {
        "id": "N0EJSiUP6sCh"
      }
    },
    {
      "cell_type": "code",
      "source": [
        "def loss(self, x, t):\n",
        "        y = self.predict(x)\n",
        "\n",
        "        weight_decay = 0\n",
        "        for idx in range(1, self.hidden_layer_num + 2):\n",
        "            W = self.params['W' + str(idx)]\n",
        "            \n",
        "            #weight의 L2 놈 더하기\n",
        "            weight_decay += 0.5 * self.weight_decay_lambda * np.sum(W ** 2)\n",
        "\n",
        "        return self.last_layer.forward(y, t) + weight_decay"
      ],
      "metadata": {
        "id": "k0Ii7PF77BNx"
      },
      "execution_count": 13,
      "outputs": []
    },
    {
      "cell_type": "markdown",
      "source": [
        "####드롭아웃"
      ],
      "metadata": {
        "id": "2Acw0wMP7Inh"
      }
    },
    {
      "cell_type": "code",
      "source": [
        "class Dropout:\n",
        "    def __init__(self, dropout_ratio=0.5):\n",
        "        self.dropout_ratio = dropout_ratio\n",
        "        self.mask = None\n",
        "\n",
        "    def forward(self, x, train_flg=True):\n",
        "        if train_flg:   #훈련때만 드롭아웃 적용\n",
        "            self.mask = np.random.rand(*x.shape) > self.dropout_ratio\n",
        "            return x * self.mask\n",
        "        \n",
        "        else:       #아닐 때는 비율 빼주기\n",
        "            return x * (1.0 - self.dropout_ratio)\n",
        "\n",
        "    def backward(self, dout):\n",
        "        return dout * self.mask"
      ],
      "metadata": {
        "id": "NoIERzBh7Gv5"
      },
      "execution_count": 14,
      "outputs": []
    },
    {
      "cell_type": "markdown",
      "source": [
        "##6.5 하이퍼파라미터 튜닝"
      ],
      "metadata": {
        "id": "aLTNMz0K7jS3"
      }
    },
    {
      "cell_type": "markdown",
      "source": [
        "####검증 데이터\n",
        "\n",
        "- 튜닝할 땐 검증 데이터로 튜닝\n",
        "- 랜덤 서치 / 그리드 서치"
      ],
      "metadata": {
        "id": "aBhN21MG7lQl"
      }
    },
    {
      "cell_type": "markdown",
      "source": [
        "#7. CNN"
      ],
      "metadata": {
        "id": "21RMFAEB7vZl"
      }
    },
    {
      "cell_type": "markdown",
      "source": [
        "##기본 컨셉"
      ],
      "metadata": {
        "id": "YUtH3pJ7708o"
      }
    },
    {
      "cell_type": "markdown",
      "source": [
        "**키워드**\n",
        "\n",
        "- convolutioning\n",
        "- feature map\n",
        "- padding / stride\n",
        "- pooling\n"
      ],
      "metadata": {
        "id": "pv-bx4Vl73A7"
      }
    },
    {
      "cell_type": "markdown",
      "source": [
        "##구현하기"
      ],
      "metadata": {
        "id": "PzXjULZ68Dwz"
      }
    },
    {
      "cell_type": "markdown",
      "source": [
        "im2col을 이용해서 필터링하기 좋게 전개한다."
      ],
      "metadata": {
        "id": "SxuUwGmr8HBB"
      }
    },
    {
      "cell_type": "code",
      "source": [
        "def im2col(input_data, filter_h, filter_w, stride=1, pad=0):\n",
        "    N, C, H, W = input_data.shape\n",
        "\n",
        "    # output_size 미리 계산\n",
        "    out_h = (H + 2*pad - filter_h)//stride + 1\n",
        "    out_w = (W + 2*pad - filter_w)//stride + 1\n",
        "\n",
        "    img = np.pad(input_data, [(0,0), (0,0), (pad, pad), (pad, pad)], 'constant')\n",
        "    col = np.zeros((N, C, filter_h, filter_w, out_h, out_w))\n",
        "\n",
        "    for y in range(filter_h):\n",
        "        y_max = y + stride*out_h\n",
        "        for x in range(filter_w):\n",
        "            x_max = x + stride*out_w\n",
        "            col[:, :, y, x, :, :] = img[:, :, y:y_max:stride, x:x_max:stride]\n",
        "\n",
        "    col = col.transpose(0, 4, 5, 1, 2, 3).reshape(N*out_h*out_w, -1)\n",
        "    return col\n"
      ],
      "metadata": {
        "id": "rqagkBh97gQJ"
      },
      "execution_count": 15,
      "outputs": []
    },
    {
      "cell_type": "markdown",
      "source": [
        "####합성곱 계층 구현"
      ],
      "metadata": {
        "id": "E8WwBpj-8nZw"
      }
    },
    {
      "cell_type": "code",
      "source": [
        "class Convolution:\n",
        "    def __init__(self, W, b, stride=1, pad=0):\n",
        "        self.W = W\n",
        "        self.b = b\n",
        "        self.stride = stride\n",
        "        self.pad = pad\n",
        "        \n",
        "        # 중간 데이터（backward 시 사용）\n",
        "        self.x = None   \n",
        "        self.col = None\n",
        "        self.col_W = None\n",
        "        \n",
        "        # 가중치와 편향 매개변수의 기울기\n",
        "        self.dW = None\n",
        "        self.db = None\n",
        "\n",
        "    def forward(self, x):\n",
        "        FN, C, FH, FW = self.W.shape\n",
        "        N, C, H, W = x.shape\n",
        "        out_h = 1 + int((H + 2*self.pad - FH) / self.stride)\n",
        "        out_w = 1 + int((W + 2*self.pad - FW) / self.stride)\n",
        "\n",
        "        # 행렬곱 할 수 있도록 input과 weight를 펼친다\n",
        "        col = im2col(x, FH, FW, self.stride, self.pad)\n",
        "        col_W = self.W.reshape(FN, -1).T\n",
        "\n",
        "        out = np.dot(col, col_W) + self.b       # 합성곱 계산\n",
        "        out = out.reshape(N, out_h, out_w, -1).transpose(0, 3, 1, 2)    #모양 맞추기\n",
        "\n",
        "        self.x = x\n",
        "        self.col = col\n",
        "        self.col_W = col_W\n",
        "\n",
        "        return out\n",
        "\n",
        "    # 역전파 구현..\n",
        "    def backward(self, dout):\n",
        "        FN, C, FH, FW = self.W.shape\n",
        "        dout = dout.transpose(0,2,3,1).reshape(-1, FN)\n",
        "\n",
        "        self.db = np.sum(dout, axis=0)\n",
        "        self.dW = np.dot(self.col.T, dout)\n",
        "        self.dW = self.dW.transpose(1, 0).reshape(FN, C, FH, FW)\n",
        "\n",
        "        dcol = np.dot(dout, self.col_W.T)\n",
        "        dx = col2im(dcol, self.x.shape, FH, FW, self.stride, self.pad)\n",
        "\n",
        "        return dx"
      ],
      "metadata": {
        "id": "hM0ambil8qn6"
      },
      "execution_count": 16,
      "outputs": []
    },
    {
      "cell_type": "markdown",
      "source": [
        "####풀링 계층 구현"
      ],
      "metadata": {
        "id": "MmWEb0-m9MgV"
      }
    },
    {
      "cell_type": "code",
      "source": [
        "class Pooling:\n",
        "    def __init__(self, pool_h, pool_w, stride=1, pad=0):\n",
        "        self.pool_h = pool_h\n",
        "        self.pool_w = pool_w\n",
        "        self.stride = stride\n",
        "        self.pad = pad\n",
        "        \n",
        "        self.x = None\n",
        "        self.arg_max = None\n",
        "\n",
        "    def forward(self, x):\n",
        "        N, C, H, W = x.shape\n",
        "        out_h = int(1 + (H - self.pool_h) / self.stride)\n",
        "        out_w = int(1 + (W - self.pool_w) / self.stride)\n",
        "\n",
        "        col = im2col(x, self.pool_h, self.pool_w, self.stride, self.pad)\n",
        "        col = col.reshape(-1, self.pool_h*self.pool_w)\n",
        "\n",
        "        arg_max = np.argmax(col, axis=1)\n",
        "        out = np.max(col, axis=1)       #out에서 최댓값 찾기 : max pooling\n",
        "        out = out.reshape(N, out_h, out_w, C).transpose(0, 3, 1, 2)\n",
        "\n",
        "        self.x = x\n",
        "        self.arg_max = arg_max\n",
        "\n",
        "        return out\n",
        "\n",
        "    def backward(self, dout):\n",
        "        dout = dout.transpose(0, 2, 3, 1)\n",
        "        \n",
        "        pool_size = self.pool_h * self.pool_w\n",
        "        dmax = np.zeros((dout.size, pool_size))\n",
        "        dmax[np.arange(self.arg_max.size), self.arg_max.flatten()] = dout.flatten()\n",
        "        dmax = dmax.reshape(dout.shape + (pool_size,)) \n",
        "        \n",
        "        dcol = dmax.reshape(dmax.shape[0] * dmax.shape[1] * dmax.shape[2], -1)\n",
        "        dx = col2im(dcol, self.x.shape, self.pool_h, self.pool_w, self.stride, self.pad)\n",
        "        \n",
        "        return dx"
      ],
      "metadata": {
        "id": "B7-YhWkI9LOQ"
      },
      "execution_count": 17,
      "outputs": []
    },
    {
      "cell_type": "markdown",
      "source": [
        "##CNN 구현하기"
      ],
      "metadata": {
        "id": "mk3z23yz9ZjY"
      }
    },
    {
      "cell_type": "code",
      "source": [
        "class SimpleConvNet:\n",
        "    \"\"\"구조\n",
        "    \n",
        "    conv - relu - pool - affine - relu - affine - softmax\n",
        "    \n",
        "    Parameters\n",
        "    ----------\n",
        "    input_size : 입력 크기（MNIST의 경우엔 784）\n",
        "    hidden_size_list : 각 은닉층의 뉴런 수를 담은 리스트（e.g. [100, 100, 100]）\n",
        "    output_size : 출력 크기（MNIST의 경우엔 10）\n",
        "    activation : 활성화 함수 - 'relu' 혹은 'sigmoid'\n",
        "    weight_init_std : 가중치의 표준편차 지정（e.g. 0.01）\n",
        "        'relu'나 'he'로 지정하면 'He 초깃값'으로 설정\n",
        "        'sigmoid'나 'xavier'로 지정하면 'Xavier 초깃값'으로 설정\n",
        "    \"\"\"\n",
        "\n",
        "    def __init__(self, input_dim=(1, 28, 28), \n",
        "                 conv_param={'filter_num':30, 'filter_size':5, 'pad':0, 'stride':1},\n",
        "                 hidden_size=100, output_size=10, weight_init_std=0.01):\n",
        "        filter_num = conv_param['filter_num']\n",
        "        filter_size = conv_param['filter_size']\n",
        "        filter_pad = conv_param['pad']\n",
        "        filter_stride = conv_param['stride']\n",
        "        input_size = input_dim[1]\n",
        "        conv_output_size = (input_size - filter_size + 2*filter_pad) / filter_stride + 1\n",
        "        pool_output_size = int(filter_num * (conv_output_size/2) * (conv_output_size/2))\n",
        "\n",
        "        # 가중치 초기화\n",
        "        self.params = {}\n",
        "        self.params['W1'] = weight_init_std * \\\n",
        "                            np.random.randn(filter_num, input_dim[0], filter_size, filter_size)\n",
        "        self.params['b1'] = np.zeros(filter_num)\n",
        "        self.params['W2'] = weight_init_std * \\\n",
        "                            np.random.randn(pool_output_size, hidden_size)\n",
        "        self.params['b2'] = np.zeros(hidden_size)\n",
        "        self.params['W3'] = weight_init_std * \\\n",
        "                            np.random.randn(hidden_size, output_size)\n",
        "        self.params['b3'] = np.zeros(output_size)\n",
        "\n",
        "        # 계층 생성\n",
        "        self.layers = OrderedDict()\n",
        "        self.layers['Conv1'] = Convolution(self.params['W1'], self.params['b1'],\n",
        "                                           conv_param['stride'], conv_param['pad'])\n",
        "        self.layers['Relu1'] = Relu()\n",
        "        self.layers['Pool1'] = Pooling(pool_h=2, pool_w=2, stride=2)\n",
        "        self.layers['Affine1'] = Affine(self.params['W2'], self.params['b2'])\n",
        "        self.layers['Relu2'] = Relu()\n",
        "        self.layers['Affine2'] = Affine(self.params['W3'], self.params['b3'])\n",
        "\n",
        "        self.last_layer = SoftmaxWithLoss()\n",
        "\n",
        "    def predict(self, x):\n",
        "        for layer in self.layers.values():\n",
        "            x = layer.forward(x)\n",
        "\n",
        "        return x\n",
        "\n",
        "    def loss(self, x, t):\n",
        "        y = self.predict(x)\n",
        "\n",
        "        return self.last_layer.forward(y, t)\n",
        "\n",
        "    def accuracy(self, x, t, batch_size=100):\n",
        "        if t.ndim != 1 : t = np.argmax(t, axis=1)\n",
        "        \n",
        "        acc = 0.0\n",
        "        \n",
        "        for i in range(int(x.shape[0] / batch_size)):\n",
        "            tx = x[i*batch_size:(i+1)*batch_size]\n",
        "            tt = t[i*batch_size:(i+1)*batch_size]\n",
        "            y = self.predict(tx)\n",
        "            y = np.argmax(y, axis=1)\n",
        "            acc += np.sum(y == tt) \n",
        "        \n",
        "        return acc / x.shape[0]\n",
        "\n",
        "    def gradient(self, x, t):\n",
        "        # forward\n",
        "        self.loss(x, t)\n",
        "\n",
        "        # backward\n",
        "        dout = 1\n",
        "        dout = self.last_layer.backward(dout)\n",
        "\n",
        "        layers = list(self.layers.values())\n",
        "        layers.reverse()    #오차 역전파법\n",
        "        for layer in layers:\n",
        "            dout = layer.backward(dout)\n",
        "\n",
        "        # 결과 저장\n",
        "        grads = {}\n",
        "        grads['W1'], grads['b1'] = self.layers['Conv1'].dW, self.layers['Conv1'].db\n",
        "        grads['W2'], grads['b2'] = self.layers['Affine1'].dW, self.layers['Affine1'].db\n",
        "        grads['W3'], grads['b3'] = self.layers['Affine2'].dW, self.layers['Affine2'].db\n",
        "\n",
        "        return grads"
      ],
      "metadata": {
        "id": "QSZ6HGP89WxQ"
      },
      "execution_count": 18,
      "outputs": []
    },
    {
      "cell_type": "markdown",
      "source": [
        "##CNN 시각화 하기"
      ],
      "metadata": {
        "id": "kfxXPExm-SDk"
      }
    },
    {
      "cell_type": "markdown",
      "source": [
        "- 층이 깊어질수록 detail한 특징을 학습한다\n",
        "- 대표적인 CNN은 LeNet, AlexNet이 있다"
      ],
      "metadata": {
        "id": "ZrjSpqFF-Twq"
      }
    },
    {
      "cell_type": "markdown",
      "source": [
        "#8. 딥러닝"
      ],
      "metadata": {
        "id": "erWiJFw3-d9l"
      }
    },
    {
      "cell_type": "markdown",
      "source": [
        "##더 깊게!!"
      ],
      "metadata": {
        "id": "bgMv_tu1-kuZ"
      }
    },
    {
      "cell_type": "markdown",
      "source": [
        "- 층을 깊게 하고, 작은 filter를 사용하면 receptive field 대비 params 갯수가 효율적이다\n",
        "- 깊을수록 더 디테일한 특성까지 학습하므로 더 좋다\n",
        "- 학습해야할 문제를 계층적으로 나눌 수 있다\n",
        "- 정보를 계층적으로 전달할 수도 있다\n",
        "- GPU의 발전이 큰 도움을 주었다"
      ],
      "metadata": {
        "id": "bA0b5xuN-muB"
      }
    },
    {
      "cell_type": "markdown",
      "source": [
        "##대표적인 CNN"
      ],
      "metadata": {
        "id": "66CESsnJ_BTU"
      }
    },
    {
      "cell_type": "markdown",
      "source": [
        "####VGG"
      ],
      "metadata": {
        "id": "I-4M8BXg_DBh"
      }
    },
    {
      "cell_type": "markdown",
      "source": [
        "3 * 3의 작은 필터의 conv층을 연속으로 사용\n",
        "\n",
        "-> 효율적인 params"
      ],
      "metadata": {
        "id": "pjYyh9JQ_Sy8"
      }
    },
    {
      "cell_type": "markdown",
      "source": [
        "####GoogLeNet"
      ],
      "metadata": {
        "id": "Ur__R7JJ_MiU"
      }
    },
    {
      "cell_type": "markdown",
      "source": [
        "- 세로 방향 깊이뿐 아니라 가로 방향도 깊다\n",
        "- 인셉션 구조 사용\n",
        "- 1 * 1 convolution으로 channel과 params 수를 조절한다"
      ],
      "metadata": {
        "id": "OmVVipim_chc"
      }
    },
    {
      "cell_type": "markdown",
      "source": [
        "####ResNet"
      ],
      "metadata": {
        "id": "iKMzlLpE_OHV"
      }
    },
    {
      "cell_type": "markdown",
      "source": [
        "- 스킵 연결을 사용해서 변화량만을 학습하게 한다\n",
        "- identity adding으로 인해서 역전파될 때 gradient highway가 생긴다 -> gradient 전파에 좋다"
      ],
      "metadata": {
        "id": "KcMkNJxc_pu4"
      }
    },
    {
      "cell_type": "markdown",
      "source": [
        "##딥러닝의 활용"
      ],
      "metadata": {
        "id": "TGViQ-Nm_7fN"
      }
    },
    {
      "cell_type": "markdown",
      "source": [
        "####Object Detection"
      ],
      "metadata": {
        "id": "rt4_wkdQ_8-X"
      }
    },
    {
      "cell_type": "markdown",
      "source": [
        "- R-CNN\n",
        "- Fast R-CNN\n",
        "- Faster R-CNN"
      ],
      "metadata": {
        "id": "dPhKpUakAHhi"
      }
    },
    {
      "cell_type": "markdown",
      "source": [
        "####Segmentation"
      ],
      "metadata": {
        "id": "sgQKWpApAAob"
      }
    },
    {
      "cell_type": "markdown",
      "source": [
        "FCN을 이용해서 spatial하도록 줄이고, 다시 deconvolution을 사용해서 복원"
      ],
      "metadata": {
        "id": "-XXyP5FwAL1D"
      }
    },
    {
      "cell_type": "markdown",
      "source": [
        "####Image Captioning"
      ],
      "metadata": {
        "id": "BPVKZpI8AAa7"
      }
    },
    {
      "cell_type": "markdown",
      "source": [
        "- CNN + RNN\n",
        "- CNN으로 그림의 feature를 학습, RNN으로 feature로부터 자연어 처리\n",
        "- **멀티모달 처리** : 여러 종류의 정보를 조합, 처리하는 작업"
      ],
      "metadata": {
        "id": "HOTPj2yiATO3"
      }
    }
  ]
}