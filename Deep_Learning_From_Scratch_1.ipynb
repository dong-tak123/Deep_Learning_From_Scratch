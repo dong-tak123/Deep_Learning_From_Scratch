{
  "nbformat": 4,
  "nbformat_minor": 0,
  "metadata": {
    "colab": {
      "name": "Deep Learning From Scratch_1",
      "provenance": [],
      "collapsed_sections": []
    },
    "kernelspec": {
      "name": "python3",
      "display_name": "Python 3"
    },
    "language_info": {
      "name": "python"
    }
  },
  "cells": [
    {
      "cell_type": "markdown",
      "metadata": {
        "id": "Gx30tAATagDr"
      },
      "source": [
        "#1. 헬로 파이썬"
      ]
    },
    {
      "cell_type": "markdown",
      "metadata": {
        "id": "SajQ3qtZazOx"
      },
      "source": [
        "## 넘파이"
      ]
    },
    {
      "cell_type": "markdown",
      "metadata": {
        "id": "1Pzd2n7Ja4vp"
      },
      "source": [
        "###브로드캐스트\n",
        "\n",
        "자동으로 크기에 맞게 계산하는 기능"
      ]
    },
    {
      "cell_type": "code",
      "metadata": {
        "id": "aPM8x0OLa-wY"
      },
      "source": [
        "import numpy as np"
      ],
      "execution_count": null,
      "outputs": []
    },
    {
      "cell_type": "code",
      "metadata": {
        "id": "-rhpxWd0a_Rl"
      },
      "source": [
        "A = np.array([[1,2],[3,4]])\n",
        "B = np.array([10,20])"
      ],
      "execution_count": null,
      "outputs": []
    },
    {
      "cell_type": "code",
      "metadata": {
        "colab": {
          "base_uri": "https://localhost:8080/"
        },
        "id": "fq3utEfobGvU",
        "outputId": "930ac4cc-397c-4e62-e016-e53a88217ce2"
      },
      "source": [
        "#넘파이 배열에서 * 연산은 원소끼리의 곱..\n",
        "\n",
        "A * B"
      ],
      "execution_count": null,
      "outputs": [
        {
          "output_type": "execute_result",
          "data": {
            "text/plain": [
              "array([[10, 40],\n",
              "       [30, 80]])"
            ]
          },
          "metadata": {},
          "execution_count": 5
        }
      ]
    },
    {
      "cell_type": "markdown",
      "metadata": {
        "id": "GTNHwbQEbP-Y"
      },
      "source": [
        "## matplotlib"
      ]
    },
    {
      "cell_type": "code",
      "metadata": {
        "colab": {
          "base_uri": "https://localhost:8080/",
          "height": 265
        },
        "id": "2uLDKwWqbU1C",
        "outputId": "5b7bf91b-c0b9-476e-d795-c3a78d823b1b"
      },
      "source": [
        "import numpy as np\n",
        "import matplotlib.pyplot as plt\n",
        "\n",
        "#데이터 준비\n",
        "x = np.arange(0, 6, 0.1)    #0에서 6까지 0.1 간격으로 생성\n",
        "y = np.sin(x)\n",
        "\n",
        "#그래프 그리기\n",
        "plt.plot(x, y)\n",
        "plt.show()"
      ],
      "execution_count": null,
      "outputs": [
        {
          "output_type": "display_data",
          "data": {
            "image/png": "[encoded data removed]",
            "text/plain": [
              "<Figure size 432x288 with 1 Axes>"
            ]
          },
          "metadata": {
            "needs_background": "light"
          }
        }
      ]
    },
    {
      "cell_type": "markdown",
      "metadata": {
        "id": "pQy-HozLagAC"
      },
      "source": [
        "#2. 퍼셉트론"
      ]
    },
    {
      "cell_type": "markdown",
      "metadata": {
        "id": "lpm5o76fbnip"
      },
      "source": [
        "##퍼셉트론이란?\n",
        "\n",
        "- 다수의 신호를 입력으로 받아 하나의 신호를 출력\n",
        "- **신호** : **흐름**이 있는 것\n",
        "- 뉴런에서 보내온 신호의 총합이 정해진 한계를 넘어설 때만 1을 출력한다"
      ]
    },
    {
      "cell_type": "markdown",
      "metadata": {
        "id": "ExIFBZuibtdr"
      },
      "source": [
        "![퍼셉트론.png](data:image/png;base64,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)"
      ]
    },
    {
      "cell_type": "markdown",
      "metadata": {
        "id": "fihVqlIccuJI"
      },
      "source": [
        "**뉴런** : 그림의 원\n",
        "\n",
        "**가중치** : 입력신호($x_1, x_2, y)$가 뉴런에 보내질 때 곱해지는 $w_1, w_2$\n",
        "\n",
        "**임계값**($\\theta$) : 뉴런을 활성화 여부를 결정하는 한계\n",
        "\n",
        "**동작 원리**\n",
        "\n",
        "- $\n",
        "y = \\begin{cases} 0 &(w_1x_1 + w_2x_2 \\le \\theta) \\\\\n",
        "\\\\1 &(w_1x_1 + w_2x_2 > \\theta)\n",
        "\\end{cases}\n",
        "$\n"
      ]
    },
    {
      "cell_type": "markdown",
      "metadata": {
        "id": "6U4owZu6e_eu"
      },
      "source": [
        "## 단순한 논리 회로\n",
        "\n",
        "- AND, NAND, OR등 여러 게이트를 만들자..\n",
        "- 진리표에 맞도록 $w_1, w_2, \\theta$의 값을 조정하면 된다..\n",
        "    - 각 게이트의 차이는 이 매개변수 차이 뿐이다"
      ]
    },
    {
      "cell_type": "markdown",
      "metadata": {
        "id": "fLg-96L3fgLz"
      },
      "source": [
        "##퍼셉트론 구현하기\n",
        "\n",
        "- 입력이 $x_1, x_2$\n",
        "- 가중치와 임계값은 함수 안에서 초기화.."
      ]
    },
    {
      "cell_type": "code",
      "metadata": {
        "id": "r848_Vpefh29"
      },
      "source": [
        "# AND 게이트\n",
        "\n",
        "def AND(x1, x2):\n",
        "    w1, w2, theta = 0.5, 0.5, 0.7   #진리표를 만족하는 매개변수..\n",
        "    tmp = x1*w1 + x2*w2\n",
        "\n",
        "    #임계값과의 비교\n",
        "    if tmp <= theta:\n",
        "        return 0\n",
        "    elif tmp > theta:\n",
        "        return 1"
      ],
      "execution_count": null,
      "outputs": []
    },
    {
      "cell_type": "code",
      "metadata": {
        "colab": {
          "base_uri": "https://localhost:8080/"
        },
        "id": "aiSx4JLwgA6n",
        "outputId": "3708f726-acf8-4e12-862f-c5f73f7cb01e"
      },
      "source": [
        "#확인\n",
        "\n",
        "print(AND(0,0))     #0\n",
        "print(AND(0,1))     #0\n",
        "print(AND(1,0))     #0\n",
        "print(AND(1,1))     #1"
      ],
      "execution_count": null,
      "outputs": [
        {
          "output_type": "stream",
          "name": "stdout",
          "text": [
            "0\n",
            "0\n",
            "0\n",
            "1\n"
          ]
        }
      ]
    },
    {
      "cell_type": "markdown",
      "metadata": {
        "id": "_LocsCh7hC-d"
      },
      "source": [
        "###가중치와 편향 도입"
      ]
    },
    {
      "cell_type": "markdown",
      "metadata": {
        "id": "Dd-KJXNmhHme"
      },
      "source": [
        "$\n",
        "y = \\begin{cases} 0 &(b + w_1x_1 + w_2x_2 \\le 0) \\\\\n",
        "\\\\1 &(b + w_1x_1 + w_2x_2 > 0)\n",
        "\\end{cases}\n",
        "$\n",
        "\n",
        "여기에서, $\\theta = -b$"
      ]
    },
    {
      "cell_type": "markdown",
      "metadata": {
        "id": "A3KmKLhjijtS"
      },
      "source": [
        "**편향**($b$)\n",
        "\n",
        ": 뉴런이 얼마나 쉽게 활성화 하느냐를 조정\n",
        "\n",
        "**가중치**($w_1, w_2$)\n",
        "\n",
        ": 각 입력신호가 결과에 주는 영향력을 조정"
      ]
    },
    {
      "cell_type": "code",
      "metadata": {
        "colab": {
          "base_uri": "https://localhost:8080/"
        },
        "id": "YdZK5WWogA2_",
        "outputId": "03272fb0-6a73-48da-b82d-2c6f9e05947e"
      },
      "source": [
        "import numpy as np\n",
        "x = np.array([0,1])         #입력\n",
        "w = np.array([0.5, 0.5])    #가중치\n",
        "b = -0.7                    #편향\n",
        "\n",
        "print(x*w)\n",
        "print(np.sum(x*w))\n",
        "\n",
        "#이 값이 0을 넘는지 여부가 중요\n",
        "print(np.sum(x*w) + b)"
      ],
      "execution_count": null,
      "outputs": [
        {
          "output_type": "stream",
          "name": "stdout",
          "text": [
            "[0.  0.5]\n",
            "0.5\n",
            "-0.19999999999999996\n"
          ]
        }
      ]
    },
    {
      "cell_type": "code",
      "metadata": {
        "id": "FKb0qwFZgA0K"
      },
      "source": [
        "#다시 게이트 구현..\n",
        "\n",
        "def AND(x1, x2):\n",
        "    x = np.array([x1, x2])\n",
        "    w = np.array([0.5, 0.5])\n",
        "    b = -0.7\n",
        "    tmp = np.sum(w*x) + b\n",
        "    if tmp <= 0:\n",
        "        return 0\n",
        "    else:\n",
        "        return 1"
      ],
      "execution_count": null,
      "outputs": []
    },
    {
      "cell_type": "code",
      "metadata": {
        "id": "X4V26IqrgAxV"
      },
      "source": [
        "#NAND, OR 게이트도 구현..\n",
        "\n",
        "def NAND(x1, x2):\n",
        "    x = np.array([x1, x2])\n",
        "    w = np.array([-0.5, -0.5])      #AND게이트와 매개변수 값만 부호 반대로!\n",
        "    b = 0.7\n",
        "    tmp = np.sum(w*x) + b\n",
        "    if tmp <= 0:\n",
        "        return 0\n",
        "    else:\n",
        "        return 1\n",
        "\n",
        "def OR(x1, x2):\n",
        "    x = np.array([x1, x2])\n",
        "    w = np.array([0.5, 0.5])      #가중치 W와 b만 다르다!\n",
        "    b = -0.2\n",
        "    tmp = np.sum(w*x) + b\n",
        "    if tmp <= 0:\n",
        "        return 0\n",
        "    else:\n",
        "        return 1"
      ],
      "execution_count": null,
      "outputs": []
    },
    {
      "cell_type": "markdown",
      "metadata": {
        "id": "3FcvwIH9jeJC"
      },
      "source": [
        "**결론**\n",
        "\n",
        "- 같은 구조의 퍼셉트론인데, 차이는 가중치 매개변수의 값 뿐이다.."
      ]
    },
    {
      "cell_type": "markdown",
      "metadata": {
        "id": "gUsvhc3sj5UX"
      },
      "source": [
        "##다층 퍼셉트론\n",
        "\n",
        "**단층 퍼셉트론으로는 표현하지 못한 것들을 층을 하나 늘려 구현할 수 있다**"
      ]
    },
    {
      "cell_type": "markdown",
      "metadata": {
        "id": "Dcq_57dXj8PI"
      },
      "source": [
        "- 퍼셉트론은 직선으로 나뉜 두 영역을 만들기 때문에 한계가 있다..\n",
        "- 비선형으로 나누어야할 때 다층 퍼셉트론이 필요하다..\n",
        "- 기존 게이트를 쌓아서 XOR 게이트의 진리표와 같도록 만들 수 있다.."
      ]
    },
    {
      "cell_type": "markdown",
      "metadata": {
        "id": "dV3xTjEFlUGY"
      },
      "source": [
        "![XOR_퍼셉트론.png](data:image/png;base64,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)"
      ]
    },
    {
      "cell_type": "code",
      "metadata": {
        "id": "c6iAoKH2gAmq"
      },
      "source": [
        "def XOR(x1, x2):\n",
        "    s1 = NAND(x1, x2)\n",
        "    s2 = OR(x1, x2)\n",
        "    y = AND(s1, s2)     #두 퍼셉트론의 결과 조합\n",
        "    return y"
      ],
      "execution_count": null,
      "outputs": []
    },
    {
      "cell_type": "code",
      "metadata": {
        "colab": {
          "base_uri": "https://localhost:8080/"
        },
        "id": "K2VF5rjNkw8b",
        "outputId": "73bad1ba-af2e-4b44-bf2b-221b5663a81e"
      },
      "source": [
        "#확인..\n",
        "\n",
        "print(XOR(0,0))     #0\n",
        "print(XOR(0,1))     #1\n",
        "print(XOR(1,0))     #1\n",
        "print(XOR(1,1))     #0"
      ],
      "execution_count": null,
      "outputs": [
        {
          "output_type": "stream",
          "name": "stdout",
          "text": [
            "0\n",
            "1\n",
            "1\n",
            "0\n"
          ]
        }
      ]
    },
    {
      "cell_type": "markdown",
      "metadata": {
        "id": "xL242Efglh-y"
      },
      "source": [
        "NAND 게이트를 엄청 모으면 컴퓨터까지...(이론상)"
      ]
    },
    {
      "cell_type": "markdown",
      "metadata": {
        "id": "wE0Oq4iGlmST"
      },
      "source": [
        "##정리\n",
        "\n",
        "- 퍼셉트론은 입출력을 갖춘 알고리즘이다\n",
        "- '가중치'와 '편향'이 매개변수이다\n",
        "- 단층 퍼셉트론 : AND, NAND, OR\n",
        "- 2층 퍼셉트론 : XOR\n",
        "    - 단층은 직선형 영역만 표현가은.."
      ]
    },
    {
      "cell_type": "markdown",
      "metadata": {
        "id": "GRCqAu5Faf8g"
      },
      "source": [
        "#3. 신경망"
      ]
    },
    {
      "cell_type": "markdown",
      "metadata": {
        "id": "3VD_3tS-af5C"
      },
      "source": [
        "#4. 신경망 학습"
      ]
    },
    {
      "cell_type": "code",
      "metadata": {
        "id": "AltQ7zjVGYpW"
      },
      "source": [
        ""
      ],
      "execution_count": null,
      "outputs": []
    }
  ]
}